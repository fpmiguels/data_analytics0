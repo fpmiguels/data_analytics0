{
 "cells": [
  {
   "cell_type": "markdown",
   "id": "27ca5bc3-3023-45a4-a959-692a2439cf3d",
   "metadata": {},
   "source": [
    "# Importando as bibliotecas"
   ]
  },
  {
   "cell_type": "code",
   "execution_count": 2,
   "id": "a2fc7fef-be68-452a-80ec-e572f3864460",
   "metadata": {},
   "outputs": [],
   "source": [
    "import pandas as pd\n",
    "import numpy as np"
   ]
  },
  {
   "cell_type": "markdown",
   "id": "0c34b9f5-8beb-4e85-ae2c-6f53a0e19da7",
   "metadata": {},
   "source": [
    "# Montando o dataframe "
   ]
  },
  {
   "cell_type": "code",
   "execution_count": 3,
   "id": "55844096-05eb-4841-b48c-1f1aac676cab",
   "metadata": {},
   "outputs": [],
   "source": [
    " # Definindo o dataframe\n",
    "\n",
    "supermark = pd.read_csv('supermarket_sales.csv')"
   ]
  },
  {
   "cell_type": "code",
   "execution_count": 9,
   "id": "35d4b3f1-4153-43e7-b0a1-22bada8ab538",
   "metadata": {},
   "outputs": [
    {
     "data": {
      "text/html": [
       "<div>\n",
       "<style scoped>\n",
       "    .dataframe tbody tr th:only-of-type {\n",
       "        vertical-align: middle;\n",
       "    }\n",
       "\n",
       "    .dataframe tbody tr th {\n",
       "        vertical-align: top;\n",
       "    }\n",
       "\n",
       "    .dataframe thead th {\n",
       "        text-align: right;\n",
       "    }\n",
       "</style>\n",
       "<table border=\"1\" class=\"dataframe\">\n",
       "  <thead>\n",
       "    <tr style=\"text-align: right;\">\n",
       "      <th></th>\n",
       "      <th>Invoice ID</th>\n",
       "      <th>Branch</th>\n",
       "      <th>City</th>\n",
       "      <th>Customer type</th>\n",
       "      <th>Gender</th>\n",
       "      <th>Product line</th>\n",
       "      <th>Unit price</th>\n",
       "      <th>Quantity</th>\n",
       "      <th>Tax 5%</th>\n",
       "      <th>Total</th>\n",
       "      <th>Date</th>\n",
       "      <th>Time</th>\n",
       "      <th>Payment</th>\n",
       "      <th>cogs</th>\n",
       "      <th>gross margin percentage</th>\n",
       "      <th>gross income</th>\n",
       "      <th>Rating</th>\n",
       "    </tr>\n",
       "  </thead>\n",
       "  <tbody>\n",
       "    <tr>\n",
       "      <th>0</th>\n",
       "      <td>750-67-8428</td>\n",
       "      <td>A</td>\n",
       "      <td>Yangon</td>\n",
       "      <td>Member</td>\n",
       "      <td>Female</td>\n",
       "      <td>Health and beauty</td>\n",
       "      <td>74.69</td>\n",
       "      <td>7</td>\n",
       "      <td>26.1415</td>\n",
       "      <td>548.9715</td>\n",
       "      <td>1/5/2019</td>\n",
       "      <td>13:08</td>\n",
       "      <td>Ewallet</td>\n",
       "      <td>522.83</td>\n",
       "      <td>4.761905</td>\n",
       "      <td>26.1415</td>\n",
       "      <td>9.1</td>\n",
       "    </tr>\n",
       "    <tr>\n",
       "      <th>1</th>\n",
       "      <td>226-31-3081</td>\n",
       "      <td>C</td>\n",
       "      <td>Naypyitaw</td>\n",
       "      <td>Normal</td>\n",
       "      <td>Female</td>\n",
       "      <td>Electronic accessories</td>\n",
       "      <td>15.28</td>\n",
       "      <td>5</td>\n",
       "      <td>3.8200</td>\n",
       "      <td>80.2200</td>\n",
       "      <td>3/8/2019</td>\n",
       "      <td>10:29</td>\n",
       "      <td>Cash</td>\n",
       "      <td>76.40</td>\n",
       "      <td>4.761905</td>\n",
       "      <td>3.8200</td>\n",
       "      <td>9.6</td>\n",
       "    </tr>\n",
       "    <tr>\n",
       "      <th>2</th>\n",
       "      <td>631-41-3108</td>\n",
       "      <td>A</td>\n",
       "      <td>Yangon</td>\n",
       "      <td>Normal</td>\n",
       "      <td>Male</td>\n",
       "      <td>Home and lifestyle</td>\n",
       "      <td>46.33</td>\n",
       "      <td>7</td>\n",
       "      <td>16.2155</td>\n",
       "      <td>340.5255</td>\n",
       "      <td>3/3/2019</td>\n",
       "      <td>13:23</td>\n",
       "      <td>Credit card</td>\n",
       "      <td>324.31</td>\n",
       "      <td>4.761905</td>\n",
       "      <td>16.2155</td>\n",
       "      <td>7.4</td>\n",
       "    </tr>\n",
       "    <tr>\n",
       "      <th>3</th>\n",
       "      <td>123-19-1176</td>\n",
       "      <td>A</td>\n",
       "      <td>Yangon</td>\n",
       "      <td>Member</td>\n",
       "      <td>Male</td>\n",
       "      <td>Health and beauty</td>\n",
       "      <td>58.22</td>\n",
       "      <td>8</td>\n",
       "      <td>23.2880</td>\n",
       "      <td>489.0480</td>\n",
       "      <td>1/27/2019</td>\n",
       "      <td>20:33</td>\n",
       "      <td>Ewallet</td>\n",
       "      <td>465.76</td>\n",
       "      <td>4.761905</td>\n",
       "      <td>23.2880</td>\n",
       "      <td>8.4</td>\n",
       "    </tr>\n",
       "    <tr>\n",
       "      <th>4</th>\n",
       "      <td>373-73-7910</td>\n",
       "      <td>A</td>\n",
       "      <td>Yangon</td>\n",
       "      <td>Normal</td>\n",
       "      <td>Male</td>\n",
       "      <td>Sports and travel</td>\n",
       "      <td>86.31</td>\n",
       "      <td>7</td>\n",
       "      <td>30.2085</td>\n",
       "      <td>634.3785</td>\n",
       "      <td>2/8/2019</td>\n",
       "      <td>10:37</td>\n",
       "      <td>Ewallet</td>\n",
       "      <td>604.17</td>\n",
       "      <td>4.761905</td>\n",
       "      <td>30.2085</td>\n",
       "      <td>5.3</td>\n",
       "    </tr>\n",
       "  </tbody>\n",
       "</table>\n",
       "</div>"
      ],
      "text/plain": [
       "    Invoice ID Branch       City Customer type  Gender  \\\n",
       "0  750-67-8428      A     Yangon        Member  Female   \n",
       "1  226-31-3081      C  Naypyitaw        Normal  Female   \n",
       "2  631-41-3108      A     Yangon        Normal    Male   \n",
       "3  123-19-1176      A     Yangon        Member    Male   \n",
       "4  373-73-7910      A     Yangon        Normal    Male   \n",
       "\n",
       "             Product line  Unit price  Quantity   Tax 5%     Total       Date  \\\n",
       "0       Health and beauty       74.69         7  26.1415  548.9715   1/5/2019   \n",
       "1  Electronic accessories       15.28         5   3.8200   80.2200   3/8/2019   \n",
       "2      Home and lifestyle       46.33         7  16.2155  340.5255   3/3/2019   \n",
       "3       Health and beauty       58.22         8  23.2880  489.0480  1/27/2019   \n",
       "4       Sports and travel       86.31         7  30.2085  634.3785   2/8/2019   \n",
       "\n",
       "    Time      Payment    cogs  gross margin percentage  gross income  Rating  \n",
       "0  13:08      Ewallet  522.83                 4.761905       26.1415     9.1  \n",
       "1  10:29         Cash   76.40                 4.761905        3.8200     9.6  \n",
       "2  13:23  Credit card  324.31                 4.761905       16.2155     7.4  \n",
       "3  20:33      Ewallet  465.76                 4.761905       23.2880     8.4  \n",
       "4  10:37      Ewallet  604.17                 4.761905       30.2085     5.3  "
      ]
     },
     "execution_count": 9,
     "metadata": {},
     "output_type": "execute_result"
    }
   ],
   "source": [
    "# Listando os 5 primeiros dados do dataframe\n",
    "\n",
    "supermark.head() "
   ]
  },
  {
   "cell_type": "code",
   "execution_count": 10,
   "id": "f3193170-0f76-4884-bd8f-c9e38ec39470",
   "metadata": {},
   "outputs": [
    {
     "name": "stdout",
     "output_type": "stream",
     "text": [
      "<class 'pandas.core.frame.DataFrame'>\n",
      "RangeIndex: 1000 entries, 0 to 999\n",
      "Data columns (total 17 columns):\n",
      " #   Column                   Non-Null Count  Dtype  \n",
      "---  ------                   --------------  -----  \n",
      " 0   Invoice ID               1000 non-null   object \n",
      " 1   Branch                   1000 non-null   object \n",
      " 2   City                     1000 non-null   object \n",
      " 3   Customer type            1000 non-null   object \n",
      " 4   Gender                   1000 non-null   object \n",
      " 5   Product line             1000 non-null   object \n",
      " 6   Unit price               1000 non-null   float64\n",
      " 7   Quantity                 1000 non-null   int64  \n",
      " 8   Tax 5%                   1000 non-null   float64\n",
      " 9   Total                    1000 non-null   float64\n",
      " 10  Date                     1000 non-null   object \n",
      " 11  Time                     1000 non-null   object \n",
      " 12  Payment                  1000 non-null   object \n",
      " 13  cogs                     1000 non-null   float64\n",
      " 14  gross margin percentage  1000 non-null   float64\n",
      " 15  gross income             1000 non-null   float64\n",
      " 16  Rating                   1000 non-null   float64\n",
      "dtypes: float64(7), int64(1), object(9)\n",
      "memory usage: 132.9+ KB\n"
     ]
    }
   ],
   "source": [
    "# Verificando o dataframe para ver se existem valores nulos ou errados\n",
    "\n",
    "supermark.info()"
   ]
  },
  {
   "cell_type": "markdown",
   "id": "f13e1b73-4ea9-46b9-a279-b61ee7976548",
   "metadata": {},
   "source": [
    "# Informações sobre vendas por mercado/cidade e datas"
   ]
  },
  {
   "cell_type": "code",
   "execution_count": 11,
   "id": "b58f387f-a09a-462e-bf82-1c5fe28e4dcb",
   "metadata": {},
   "outputs": [
    {
     "data": {
      "text/plain": [
       "City\n",
       "Yangon       340\n",
       "Mandalay     332\n",
       "Naypyitaw    328\n",
       "Name: count, dtype: int64"
      ]
     },
     "execution_count": 11,
     "metadata": {},
     "output_type": "execute_result"
    }
   ],
   "source": [
    "# Listando as cidades (e também mercados) onde houve mais vendas por cliente\n",
    "\n",
    "supermark['City'].value_counts() "
   ]
  },
  {
   "cell_type": "code",
   "execution_count": 47,
   "id": "846fe59b-6b03-46dd-96e7-5a6fac2e94c5",
   "metadata": {},
   "outputs": [
    {
     "data": {
      "text/plain": [
       "City\n",
       "Mandalay     1820\n",
       "Naypyitaw    1831\n",
       "Yangon       1859\n",
       "Name: Quantity, dtype: int64"
      ]
     },
     "execution_count": 47,
     "metadata": {},
     "output_type": "execute_result"
    }
   ],
   "source": [
    "# Quantidade de produtos vendidos por cidade\n",
    "\n",
    "supermark.groupby('City')['Quantity'].sum()"
   ]
  },
  {
   "cell_type": "code",
   "execution_count": 16,
   "id": "5e6786bf-a24b-49d4-a9ad-948af32054cc",
   "metadata": {},
   "outputs": [
    {
     "data": {
      "text/plain": [
       "Date\n",
       "2/7/2019     128\n",
       "3/14/2019    117\n",
       "2/15/2019    106\n",
       "3/5/2019     103\n",
       "3/9/2019      99\n",
       "            ... \n",
       "2/13/2019     31\n",
       "2/28/2019     30\n",
       "3/18/2019     27\n",
       "2/18/2019     24\n",
       "2/21/2019     18\n",
       "Name: Quantity, Length: 89, dtype: int64"
      ]
     },
     "execution_count": 16,
     "metadata": {},
     "output_type": "execute_result"
    }
   ],
   "source": [
    "# Dias em que houve mais vendas de produtos nas 3 lojas\n",
    "\n",
    "supermark.groupby('Date')['Quantity'].sum().sort_values(ascending=False)"
   ]
  },
  {
   "cell_type": "code",
   "execution_count": 26,
   "id": "91730bbb-fd12-462f-a1ca-87194836b7d3",
   "metadata": {},
   "outputs": [
    {
     "data": {
      "text/plain": [
       "Date\n",
       "3/5/2019     59\n",
       "3/2/2019     52\n",
       "1/26/2019    49\n",
       "2/7/2019     48\n",
       "1/28/2019    45\n",
       "             ..\n",
       "3/23/2019     4\n",
       "3/21/2019     4\n",
       "3/28/2019     3\n",
       "2/18/2019     2\n",
       "1/21/2019     1\n",
       "Name: Quantity, Length: 86, dtype: int64"
      ]
     },
     "execution_count": 26,
     "metadata": {},
     "output_type": "execute_result"
    }
   ],
   "source": [
    "# Dias em que houve mais vendas em Mandalay\n",
    "\n",
    "supermark.loc[supermark['City'] == 'Mandalay'].groupby('Date')['Quantity'].sum().sort_values(ascending=False)"
   ]
  },
  {
   "cell_type": "code",
   "execution_count": 27,
   "id": "7a7e3fd3-424a-48a4-bdc0-cfae27c7cba3",
   "metadata": {},
   "outputs": [
    {
     "data": {
      "text/plain": [
       "Date\n",
       "3/4/2019     57\n",
       "1/19/2019    56\n",
       "3/9/2019     39\n",
       "2/17/2019    39\n",
       "1/24/2019    39\n",
       "             ..\n",
       "3/5/2019      5\n",
       "2/23/2019     4\n",
       "2/26/2019     3\n",
       "1/30/2019     3\n",
       "2/21/2019     3\n",
       "Name: Quantity, Length: 89, dtype: int64"
      ]
     },
     "execution_count": 27,
     "metadata": {},
     "output_type": "execute_result"
    }
   ],
   "source": [
    "# Dias em que houve mais vendas em Yangon\n",
    "\n",
    "supermark.loc[supermark['City'] == 'Yangon'].groupby('Date')['Quantity'].sum().sort_values(ascending=False)"
   ]
  },
  {
   "cell_type": "code",
   "execution_count": 28,
   "id": "2fce9991-f354-410e-8562-18a26337c3d8",
   "metadata": {},
   "outputs": [
    {
     "data": {
      "text/plain": [
       "Date\n",
       "1/23/2019    59\n",
       "3/14/2019    58\n",
       "2/7/2019     52\n",
       "3/3/2019     45\n",
       "1/8/2019     44\n",
       "             ..\n",
       "2/25/2019     6\n",
       "1/24/2019     4\n",
       "1/3/2019      3\n",
       "2/20/2019     1\n",
       "3/6/2019      1\n",
       "Name: Quantity, Length: 88, dtype: int64"
      ]
     },
     "execution_count": 28,
     "metadata": {},
     "output_type": "execute_result"
    }
   ],
   "source": [
    "# Dias em que houve mais vendas em Naypyitaw\n",
    "\n",
    "supermark.loc[supermark['City'] == 'Naypyitaw'].groupby('Date')['Quantity'].sum().sort_values(ascending=False)"
   ]
  },
  {
   "cell_type": "markdown",
   "id": "7418e227-dec5-4af0-9e67-19abbff538bf",
   "metadata": {},
   "source": [
    "# Formas de pagamentos mais utilizadas "
   ]
  },
  {
   "cell_type": "code",
   "execution_count": 15,
   "id": "5126272d-b474-458b-9391-453b4980fd89",
   "metadata": {},
   "outputs": [
    {
     "data": {
      "text/plain": [
       "Payment\n",
       "Ewallet        345\n",
       "Cash           344\n",
       "Credit card    311\n",
       "Name: count, dtype: int64"
      ]
     },
     "execution_count": 15,
     "metadata": {},
     "output_type": "execute_result"
    }
   ],
   "source": [
    "# Formas de pagamentos mais utilizadas\n",
    "\n",
    "supermark['Payment'].value_counts()"
   ]
  },
  {
   "cell_type": "code",
   "execution_count": 53,
   "id": "30e3d809-1663-4a3b-b979-dd074346a5e0",
   "metadata": {},
   "outputs": [
    {
     "data": {
      "text/plain": [
       "Gender  Payment    \n",
       "Female  Cash           178\n",
       "        Credit card    163\n",
       "        Ewallet        160\n",
       "Male    Ewallet        185\n",
       "        Cash           166\n",
       "        Credit card    148\n",
       "Name: count, dtype: int64"
      ]
     },
     "execution_count": 53,
     "metadata": {},
     "output_type": "execute_result"
    }
   ],
   "source": [
    "# Formas de pagamentos mais utilizadas por cliente\n",
    "\n",
    "supermark.groupby('Gender')['Payment'].value_counts()"
   ]
  },
  {
   "cell_type": "code",
   "execution_count": 4,
   "id": "2b33dbf4-7855-4b8b-bdff-f2cf120662ba",
   "metadata": {},
   "outputs": [
    {
     "data": {
      "text/plain": [
       "City       Payment    \n",
       "Mandalay   Ewallet        113\n",
       "           Cash           110\n",
       "           Credit card    109\n",
       "Naypyitaw  Cash           124\n",
       "           Ewallet        106\n",
       "           Credit card     98\n",
       "Yangon     Ewallet        126\n",
       "           Cash           110\n",
       "           Credit card    104\n",
       "Name: count, dtype: int64"
      ]
     },
     "execution_count": 4,
     "metadata": {},
     "output_type": "execute_result"
    }
   ],
   "source": [
    "# Formas de pagamentos mais utilizados por cidade \n",
    "\n",
    "supermark.groupby('City')['Payment'].value_counts()"
   ]
  },
  {
   "cell_type": "markdown",
   "id": "63d8e107-6f9f-4ab3-818e-ea4365343203",
   "metadata": {},
   "source": [
    "# Informações sobre o tipo de clientes"
   ]
  },
  {
   "cell_type": "code",
   "execution_count": 13,
   "id": "be1997c5-d3a1-470a-b3e4-53ea7947a369",
   "metadata": {},
   "outputs": [
    {
     "data": {
      "text/plain": [
       "Customer type\n",
       "Member    501\n",
       "Normal    499\n",
       "Name: count, dtype: int64"
      ]
     },
     "execution_count": 13,
     "metadata": {},
     "output_type": "execute_result"
    }
   ],
   "source": [
    "# Tipos de compradores \n",
    "\n",
    "supermark['Customer type'].value_counts()"
   ]
  },
  {
   "cell_type": "code",
   "execution_count": 52,
   "id": "9d6cbc3a-0dab-4db9-bd23-932c2268da73",
   "metadata": {},
   "outputs": [
    {
     "data": {
      "text/plain": [
       "Gender  Customer type\n",
       "Female  Member           261\n",
       "        Normal           240\n",
       "Male    Normal           259\n",
       "        Member           240\n",
       "Name: count, dtype: int64"
      ]
     },
     "execution_count": 52,
     "metadata": {},
     "output_type": "execute_result"
    }
   ],
   "source": [
    "# Tipos de compradores por genero\n",
    "\n",
    "supermark.groupby('Gender')['Customer type'].value_counts()"
   ]
  },
  {
   "cell_type": "markdown",
   "id": "7eaaac2d-2b17-401b-9bb6-7a10556df564",
   "metadata": {},
   "source": [
    "# Reunindo informações de vendas por gênero"
   ]
  },
  {
   "cell_type": "code",
   "execution_count": 25,
   "id": "daba590e-115e-4218-a5f0-f311aa3708f6",
   "metadata": {},
   "outputs": [
    {
     "data": {
      "text/plain": [
       "5510"
      ]
     },
     "execution_count": 25,
     "metadata": {},
     "output_type": "execute_result"
    }
   ],
   "source": [
    "# Soma da quantidade dos produtos vendidos\n",
    "\n",
    "supermark['Quantity'].sum()"
   ]
  },
  {
   "cell_type": "code",
   "execution_count": 36,
   "id": "5ced3b67-bf93-481f-9233-b934e0b7b4d9",
   "metadata": {},
   "outputs": [
    {
     "data": {
      "text/plain": [
       "Gender\n",
       "Female    2869\n",
       "Male      2641\n",
       "Name: Quantity, dtype: int64"
      ]
     },
     "execution_count": 36,
     "metadata": {},
     "output_type": "execute_result"
    }
   ],
   "source": [
    "# Maiores compradores de produtos por genero\n",
    "\n",
    "supermark.groupby('Gender')['Quantity'].sum()"
   ]
  },
  {
   "cell_type": "code",
   "execution_count": 15,
   "id": "5c33f295-1818-4d56-b5c8-c5a6daad01af",
   "metadata": {},
   "outputs": [
    {
     "data": {
      "text/plain": [
       "Gender\n",
       "Female    162\n",
       "Male      170\n",
       "dtype: int64"
      ]
     },
     "execution_count": 15,
     "metadata": {},
     "output_type": "execute_result"
    }
   ],
   "source": [
    "# Generos de clientes que mais compram em cada mercado\n",
    "\n",
    "supermark.loc[supermark['City'] == 'Mandalay'].groupby('Gender').size()"
   ]
  },
  {
   "cell_type": "code",
   "execution_count": 16,
   "id": "6e952eaa-62f4-4c6d-b368-e409895f911e",
   "metadata": {},
   "outputs": [
    {
     "data": {
      "text/plain": [
       "Gender\n",
       "Female    178\n",
       "Male      150\n",
       "dtype: int64"
      ]
     },
     "execution_count": 16,
     "metadata": {},
     "output_type": "execute_result"
    }
   ],
   "source": [
    "# Generos de clientes que mais compram em cada mercado\n",
    "\n",
    "supermark.loc[supermark['City'] == 'Naypyitaw'].groupby('Gender').size()"
   ]
  },
  {
   "cell_type": "code",
   "execution_count": 17,
   "id": "a467f725-83bc-4e8c-b006-cf8896659cb3",
   "metadata": {},
   "outputs": [
    {
     "data": {
      "text/plain": [
       "Gender\n",
       "Female    161\n",
       "Male      179\n",
       "dtype: int64"
      ]
     },
     "execution_count": 17,
     "metadata": {},
     "output_type": "execute_result"
    }
   ],
   "source": [
    "# Generos de clientes que mais compram em cada mercado\n",
    "\n",
    "supermark.loc[supermark['City'] == 'Yangon'].groupby('Gender').size()"
   ]
  },
  {
   "cell_type": "code",
   "execution_count": 58,
   "id": "1402a600-9155-4d90-95d7-0fa560195b36",
   "metadata": {},
   "outputs": [
    {
     "data": {
      "text/plain": [
       "Gender  Product line          \n",
       "Female  Fashion accessories       96\n",
       "        Food and beverages        90\n",
       "        Sports and travel         88\n",
       "        Electronic accessories    84\n",
       "        Home and lifestyle        79\n",
       "        Health and beauty         64\n",
       "Male    Health and beauty         88\n",
       "        Electronic accessories    86\n",
       "        Food and beverages        84\n",
       "        Fashion accessories       82\n",
       "        Home and lifestyle        81\n",
       "        Sports and travel         78\n",
       "Name: count, dtype: int64"
      ]
     },
     "execution_count": 58,
     "metadata": {},
     "output_type": "execute_result"
    }
   ],
   "source": [
    "# Listando as vendas por tipos de produtos separado por genero\n",
    "\n",
    "supermark.groupby('Gender')['Product line'].value_counts()"
   ]
  },
  {
   "cell_type": "code",
   "execution_count": 30,
   "id": "daebc536-bc55-4a17-8655-e412c7692beb",
   "metadata": {},
   "outputs": [
    {
     "data": {
      "text/plain": [
       "Gender  Product line          \n",
       "Female  Fashion accessories       19.161677\n",
       "        Food and beverages        17.964072\n",
       "        Sports and travel         17.564870\n",
       "        Electronic accessories    16.766467\n",
       "        Home and lifestyle        15.768463\n",
       "        Health and beauty         12.774451\n",
       "Male    Health and beauty         17.635271\n",
       "        Electronic accessories    17.234469\n",
       "        Food and beverages        16.833667\n",
       "        Fashion accessories       16.432866\n",
       "        Home and lifestyle        16.232465\n",
       "        Sports and travel         15.631263\n",
       "Name: proportion, dtype: float64"
      ]
     },
     "execution_count": 30,
     "metadata": {},
     "output_type": "execute_result"
    }
   ],
   "source": [
    "# Agora usando como porcentagem\n",
    "\n",
    "supermark.groupby('Gender')['Product line'].value_counts(normalize=True)*100"
   ]
  },
  {
   "cell_type": "code",
   "execution_count": 12,
   "id": "13dcd720-8713-4b9d-ba94-dd80cb8bbe30",
   "metadata": {},
   "outputs": [
    {
     "data": {
      "text/plain": [
       "Product line\n",
       "Electronic accessories    971\n",
       "Food and beverages        952\n",
       "Sports and travel         920\n",
       "Home and lifestyle        911\n",
       "Fashion accessories       902\n",
       "Health and beauty         854\n",
       "Name: Quantity, dtype: int64"
      ]
     },
     "execution_count": 12,
     "metadata": {},
     "output_type": "execute_result"
    }
   ],
   "source": [
    "# Linhas de produtos mais vendidas\n",
    "\n",
    "supermark.groupby('Product line')['Quantity'].sum().sort_values(ascending=False)"
   ]
  },
  {
   "cell_type": "markdown",
   "id": "67c309d6-43b3-41e5-ad57-84c295d16c12",
   "metadata": {},
   "source": [
    "# Média das notas por mercado em cada cidade "
   ]
  },
  {
   "cell_type": "code",
   "execution_count": 9,
   "id": "442f8a05-62d6-4c44-84f9-4abf1e7e8381",
   "metadata": {},
   "outputs": [
    {
     "data": {
      "text/plain": [
       "City\n",
       "Naypyitaw    7.072866\n",
       "Yangon       7.027059\n",
       "Mandalay     6.818072\n",
       "Name: Rating, dtype: float64"
      ]
     },
     "execution_count": 9,
     "metadata": {},
     "output_type": "execute_result"
    }
   ],
   "source": [
    "# Criando uma média de nota dos clientes para o supermercado de cada cidade\n",
    "\n",
    "supermark.groupby('City')['Rating'].mean().sort_values(ascending=False)"
   ]
  },
  {
   "cell_type": "code",
   "execution_count": 6,
   "id": "0a62c44e-a940-4e8f-ad74-e8addf3a6043",
   "metadata": {},
   "outputs": [
    {
     "data": {
      "text/plain": [
       "Product line\n",
       "Electronic accessories    7.116364\n",
       "Health and beauty         7.100000\n",
       "Food and beverages        6.994000\n",
       "Fashion accessories       6.722581\n",
       "Home and lifestyle        6.516000\n",
       "Sports and travel         6.509677\n",
       "Name: Rating, dtype: float64"
      ]
     },
     "execution_count": 6,
     "metadata": {},
     "output_type": "execute_result"
    }
   ],
   "source": [
    "# Média da nota por produto de um mercado \n",
    "\n",
    "supermark.loc[supermark['City'] == 'Mandalay'].groupby('Product line')['Rating'].mean().sort_values(ascending=False)"
   ]
  },
  {
   "cell_type": "code",
   "execution_count": 7,
   "id": "e783a320-b689-4320-9756-b1ffb8fc9daf",
   "metadata": {},
   "outputs": [
    {
     "data": {
      "text/plain": [
       "Product line\n",
       "Fashion accessories       7.440000\n",
       "Food and beverages        7.080303\n",
       "Home and lifestyle        7.060000\n",
       "Sports and travel         7.028889\n",
       "Health and beauty         6.998077\n",
       "Electronic accessories    6.747273\n",
       "Name: Rating, dtype: float64"
      ]
     },
     "execution_count": 7,
     "metadata": {},
     "output_type": "execute_result"
    }
   ],
   "source": [
    "# Média da nota por produto de um mercado \n",
    "\n",
    "supermark.loc[supermark['City'] == 'Naypyitaw'].groupby('Product line')['Rating'].mean().sort_values(ascending=False)"
   ]
  },
  {
   "cell_type": "code",
   "execution_count": 8,
   "id": "4ccce957-9eac-42c6-902f-132b244dbdae",
   "metadata": {},
   "outputs": [
    {
     "data": {
      "text/plain": [
       "Product line\n",
       "Sports and travel         7.257627\n",
       "Food and beverages        7.253448\n",
       "Home and lifestyle        6.930769\n",
       "Electronic accessories    6.911667\n",
       "Health and beauty         6.900000\n",
       "Fashion accessories       6.878431\n",
       "Name: Rating, dtype: float64"
      ]
     },
     "execution_count": 8,
     "metadata": {},
     "output_type": "execute_result"
    }
   ],
   "source": [
    "# Média da nota por produto de um mercado \n",
    "\n",
    "supermark.loc[supermark['City'] == 'Yangon'].groupby('Product line')['Rating'].mean().sort_values(ascending=False)"
   ]
  },
  {
   "cell_type": "markdown",
   "id": "3b2e23e4-8349-447e-81ad-c64c189cf021",
   "metadata": {},
   "source": [
    "# Calculando o valor total das vendas e taxas por cidade "
   ]
  },
  {
   "cell_type": "code",
   "execution_count": 39,
   "id": "0e30bff7-61ea-4996-850c-caa71f929049",
   "metadata": {},
   "outputs": [
    {
     "data": {
      "text/plain": [
       "322966.749"
      ]
     },
     "execution_count": 39,
     "metadata": {},
     "output_type": "execute_result"
    }
   ],
   "source": [
    "# Valor total das vendas com a taxa\n",
    "\n",
    "supermark['Total'].sum()"
   ]
  },
  {
   "cell_type": "code",
   "execution_count": 10,
   "id": "ceca24d9-7e08-4284-8bee-078778f16c13",
   "metadata": {},
   "outputs": [
    {
     "data": {
      "text/plain": [
       "City\n",
       "Naypyitaw    110568.7065\n",
       "Yangon       106200.3705\n",
       "Mandalay     106197.6720\n",
       "Name: Total, dtype: float64"
      ]
     },
     "execution_count": 10,
     "metadata": {},
     "output_type": "execute_result"
    }
   ],
   "source": [
    "# Valor total de vendas por cidade\n",
    "\n",
    "supermark.groupby('City')['Total'].sum().sort_values(ascending=False)"
   ]
  },
  {
   "cell_type": "code",
   "execution_count": 43,
   "id": "7dd94d48-6e7d-462e-b97a-10a970c1fefc",
   "metadata": {},
   "outputs": [
    {
     "data": {
      "text/plain": [
       "15379.368999999999"
      ]
     },
     "execution_count": 43,
     "metadata": {},
     "output_type": "execute_result"
    }
   ],
   "source": [
    "# Valor total da taxa\n",
    "\n",
    "supermark['Tax 5%'].sum()"
   ]
  },
  {
   "cell_type": "code",
   "execution_count": 11,
   "id": "762a8954-8157-4d0e-8fc1-0af8271619eb",
   "metadata": {},
   "outputs": [
    {
     "data": {
      "text/plain": [
       "City\n",
       "Naypyitaw    5265.1765\n",
       "Yangon       5057.1605\n",
       "Mandalay     5057.0320\n",
       "Name: Tax 5%, dtype: float64"
      ]
     },
     "execution_count": 11,
     "metadata": {},
     "output_type": "execute_result"
    }
   ],
   "source": [
    "# Valor da taxa por cidade\n",
    "\n",
    "supermark.groupby('City')['Tax 5%'].sum().sort_values(ascending=False)"
   ]
  },
  {
   "cell_type": "code",
   "execution_count": 30,
   "id": "569dee23-622d-4039-83e5-1343236dddd0",
   "metadata": {},
   "outputs": [
    {
     "data": {
      "text/plain": [
       "15.379368999999999"
      ]
     },
     "execution_count": 30,
     "metadata": {},
     "output_type": "execute_result"
    }
   ],
   "source": [
    "# Quando cada cliente paga em média a taxa \n",
    "\n",
    "supermark['Tax 5%'].mean()"
   ]
  }
 ],
 "metadata": {
  "kernelspec": {
   "display_name": "Python 3 (ipykernel)",
   "language": "python",
   "name": "python3"
  },
  "language_info": {
   "codemirror_mode": {
    "name": "ipython",
    "version": 3
   },
   "file_extension": ".py",
   "mimetype": "text/x-python",
   "name": "python",
   "nbconvert_exporter": "python",
   "pygments_lexer": "ipython3",
   "version": "3.8.7rc1"
  }
 },
 "nbformat": 4,
 "nbformat_minor": 5
}
